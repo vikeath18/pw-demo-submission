{
  "nbformat": 4,
  "nbformat_minor": 0,
  "metadata": {
    "colab": {
      "provenance": []
    },
    "kernelspec": {
      "name": "python3",
      "display_name": "Python 3"
    },
    "language_info": {
      "name": "python"
    }
  },
  "cells": [
    {
      "cell_type": "code",
      "execution_count": null,
      "metadata": {
        "id": "iPU3cUcHD9Yw"
      },
      "outputs": [],
      "source": []
    },
    {
      "cell_type": "markdown",
      "source": [
        "1.question\n",
        "  -python is a complier .which has predefined functions and more libaries which makes write a code in a easy way .\n"
      ],
      "metadata": {
        "id": "7eTk9xdgEeh9"
      }
    },
    {
      "cell_type": "markdown",
      "source": [
        "2.question\n",
        "  -python uses .py to complie\n",
        "  "
      ],
      "metadata": {
        "id": "h_14hNMfE6UC"
      }
    },
    {
      "cell_type": "code",
      "source": [
        "3,question\n",
        "  print(\"hello world\")"
      ],
      "metadata": {
        "id": "u4L3NWC7FJLJ"
      },
      "execution_count": null,
      "outputs": []
    }
  ]
}